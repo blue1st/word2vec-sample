{
 "cells": [
  {
   "cell_type": "code",
   "execution_count": 7,
   "metadata": {},
   "outputs": [],
   "source": [
    "import logging\n",
    "import codecs\n",
    "from pprint import pprint\n",
    "import glob\n",
    "import os"
   ]
  },
  {
   "cell_type": "code",
   "execution_count": 8,
   "metadata": {},
   "outputs": [],
   "source": [
    "import MeCab\n",
    "from gensim.models import word2vec"
   ]
  },
  {
   "cell_type": "code",
   "execution_count": 9,
   "metadata": {},
   "outputs": [],
   "source": [
    "logging.basicConfig(format='%(asctime)s : %(levelname)s : %(message)s', level=logging.INFO)\n",
    "tagger = MeCab.Tagger('-Owakati')"
   ]
  },
  {
   "cell_type": "code",
   "execution_count": 10,
   "metadata": {},
   "outputs": [
    {
     "name": "stdout",
     "output_type": "stream",
     "text": [
      "exec ./data/sample-input.txt\n"
     ]
    }
   ],
   "source": [
    "# データ読み込み\n",
    "wakati_file = \"wakati.txt\"\n",
    "if(os.path.exists(wakati_file)):\n",
    "    os.remove(wakati_file )\n",
    "\n",
    "files = glob.glob('./data/*.txt')\n",
    "\n",
    "wakati = open(wakati_file , 'a')\n",
    "for file in files:\n",
    "    print(\"exec \" + file)\n",
    "    input_text = \"\"\n",
    "    with open(file, 'r') as f:\n",
    "        input_text = f.read()\n",
    "    wakati_text = tagger.parse(input_text)\n",
    "    wakati.write(wakati_text)\n",
    "wakati.close()"
   ]
  },
  {
   "cell_type": "code",
   "execution_count": 11,
   "metadata": {},
   "outputs": [
    {
     "name": "stderr",
     "output_type": "stream",
     "text": [
      "2018-01-16 15:59:08,365 : INFO : collecting all words and their counts\n",
      "2018-01-16 15:59:08,379 : INFO : PROGRESS: at sentence #0, processed 0 words, keeping 0 word types\n",
      "2018-01-16 15:59:08,382 : INFO : collected 393 word types from a corpus of 1468 raw words and 1 sentences\n",
      "2018-01-16 15:59:08,384 : INFO : Loading a fresh vocabulary\n",
      "2018-01-16 15:59:08,387 : INFO : min_count=5 retains 61 unique words (15% of original 393, drops 332)\n",
      "2018-01-16 15:59:08,388 : INFO : min_count=5 leaves 965 word corpus (65% of original 1468, drops 503)\n",
      "2018-01-16 15:59:08,390 : INFO : deleting the raw counts dictionary of 393 items\n",
      "2018-01-16 15:59:08,392 : INFO : sample=0.001 downsamples 61 most-common words\n",
      "2018-01-16 15:59:08,396 : INFO : downsampling leaves estimated 275 word corpus (28.6% of prior 965)\n",
      "2018-01-16 15:59:08,426 : INFO : estimated required memory for 61 words and 100 dimensions: 79300 bytes\n",
      "2018-01-16 15:59:08,429 : INFO : resetting layer weights\n",
      "2018-01-16 15:59:08,434 : INFO : training model with 3 workers on 61 vocabulary and 100 features, using sg=0 hs=0 sample=0.001 negative=5 window=5\n",
      "2018-01-16 15:59:08,566 : INFO : worker thread finished; awaiting finish of 2 more threads\n",
      "2018-01-16 15:59:08,573 : INFO : worker thread finished; awaiting finish of 1 more threads\n",
      "2018-01-16 15:59:08,575 : INFO : worker thread finished; awaiting finish of 0 more threads\n",
      "2018-01-16 15:59:08,580 : INFO : training on 7340 raw words (1348 effective words) took 0.1s, 9961 effective words/s\n",
      "2018-01-16 15:59:08,589 : WARNING : under 10 jobs per worker: consider setting a smaller `batch_words' for smoother alpha decay\n"
     ]
    }
   ],
   "source": [
    "sentences = word2vec.Text8Corpus(wakati_file )\n",
    "model = word2vec.Word2Vec(sentences)"
   ]
  },
  {
   "cell_type": "code",
   "execution_count": 14,
   "metadata": {},
   "outputs": [
    {
     "name": "stdout",
     "output_type": "stream",
     "text": [
      "[('で', 0.8729853630065918),\n",
      " ('、', 0.8708035945892334),\n",
      " ('予測', 0.8646260499954224),\n",
      " ('の', 0.8639543056488037),\n",
      " ('「', 0.8623834848403931),\n",
      " ('な', 0.8599264621734619),\n",
      " ('教師', 0.8596367835998535),\n",
      " ('を', 0.8545575737953186),\n",
      " ('する', 0.8531012535095215),\n",
      " ('に', 0.8527421951293945)]\n"
     ]
    }
   ],
   "source": [
    "pprint(model.wv.most_similar(positive=[ '機械']))"
   ]
  },
  {
   "cell_type": "code",
   "execution_count": null,
   "metadata": {},
   "outputs": [],
   "source": []
  }
 ],
 "metadata": {
  "kernelspec": {
   "display_name": "Python 3",
   "language": "python",
   "name": "python3"
  },
  "language_info": {
   "codemirror_mode": {
    "name": "ipython",
    "version": 3
   },
   "file_extension": ".py",
   "mimetype": "text/x-python",
   "name": "python",
   "nbconvert_exporter": "python",
   "pygments_lexer": "ipython3",
   "version": "3.6.4"
  }
 },
 "nbformat": 4,
 "nbformat_minor": 2
}
